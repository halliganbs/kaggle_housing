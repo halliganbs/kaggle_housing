{
 "cells": [
  {
   "cell_type": "markdown",
   "id": "4292f4fe",
   "metadata": {},
   "source": [
    "# Example Machine Learning Workflow - Housing Prices\n",
    "\n",
    "Using this Kaggle competition: https://www.kaggle.com/c/house-prices-advanced-regression-techniques/overview\n",
    "\n",
    "This will show an example of Linear Regression and XGBoost regression models"
   ]
  },
  {
   "cell_type": "code",
   "execution_count": null,
   "id": "454d6ab2",
   "metadata": {},
   "outputs": [],
   "source": [
    "import pandas as pd\n",
    "import numpy as np\n",
    "\n",
    "import matplotlib.pyplot as plt\n",
    "import seaborn as sns\n",
    "\n",
    "from sklearn.linear_model import LinearRegression\n",
    "import XGBoost as xgb\n",
    "\n",
    "import shap\n",
    "\n",
    "pd.set_options('display.max_columns', None)\n",
    "pd.set_options('display.mar_rows', None)\n",
    "\n",
    "train = pd.read_csv('data/train.csv')\n",
    "test = pd.read_csv('data/test.csv')"
   ]
  }
 ],
 "metadata": {
  "kernelspec": {
   "display_name": "Python 3 (ipykernel)",
   "language": "python",
   "name": "python3"
  },
  "language_info": {
   "codemirror_mode": {
    "name": "ipython",
    "version": 3
   },
   "file_extension": ".py",
   "mimetype": "text/x-python",
   "name": "python",
   "nbconvert_exporter": "python",
   "pygments_lexer": "ipython3",
   "version": "3.8.10"
  }
 },
 "nbformat": 4,
 "nbformat_minor": 5
}
